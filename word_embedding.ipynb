{
  "nbformat": 4,
  "nbformat_minor": 0,
  "metadata": {
    "colab": {
      "provenance": [],
      "authorship_tag": "ABX9TyPis8ri1qpuBUsIiqOzq/34",
      "include_colab_link": true
    },
    "kernelspec": {
      "name": "python3",
      "display_name": "Python 3"
    },
    "language_info": {
      "name": "python"
    }
  },
  "cells": [
    {
      "cell_type": "markdown",
      "metadata": {
        "id": "view-in-github",
        "colab_type": "text"
      },
      "source": [
        "<a href=\"https://colab.research.google.com/github/praneshnikhar/Deep-Learning-models/blob/main/word_embedding.ipynb\" target=\"_parent\"><img src=\"https://colab.research.google.com/assets/colab-badge.svg\" alt=\"Open In Colab\"/></a>"
      ]
    },
    {
      "cell_type": "code",
      "execution_count": 1,
      "metadata": {
        "id": "gAJ5aHYRAtK9"
      },
      "outputs": [],
      "source": [
        "from tensorflow.keras.preprocessing.text import one_hot"
      ]
    },
    {
      "cell_type": "code",
      "source": [
        "sent = ['the glass of milk',\n",
        "        'the glass of juice',\n",
        "        'the cup of tea',\n",
        "        'i am a good developer',\n",
        "        'understand the meaning of words',\n",
        "        ]"
      ],
      "metadata": {
        "id": "tJE4cHy-A1oZ"
      },
      "execution_count": 2,
      "outputs": []
    },
    {
      "cell_type": "code",
      "source": [
        "sent\n"
      ],
      "metadata": {
        "colab": {
          "base_uri": "https://localhost:8080/"
        },
        "id": "YDNe59-BBLfm",
        "outputId": "106bb82b-21c4-4a90-fb53-a9cdfe25bb84"
      },
      "execution_count": 3,
      "outputs": [
        {
          "output_type": "execute_result",
          "data": {
            "text/plain": [
              "['the glass of milk',\n",
              " 'the glass of juice',\n",
              " 'the cup of tea',\n",
              " 'i am a good developer',\n",
              " 'understand the meaning of words']"
            ]
          },
          "metadata": {},
          "execution_count": 3
        }
      ]
    },
    {
      "cell_type": "code",
      "source": [
        "voc_size = 10000\n",
        "#vocabb size\n",
        "onehot_repr = [one_hot(words,voc_size) for words in sent]\n",
        "print(onehot_repr)"
      ],
      "metadata": {
        "colab": {
          "base_uri": "https://localhost:8080/"
        },
        "id": "XfaaF6lhBNZb",
        "outputId": "57147424-eb99-4041-a0ce-3a1bee50b585"
      },
      "execution_count": 5,
      "outputs": [
        {
          "output_type": "stream",
          "name": "stdout",
          "text": [
            "[[1066, 3835, 304, 5992], [1066, 3835, 304, 5766], [1066, 9363, 304, 2536], [5241, 7609, 1484, 8467, 6975], [1601, 1066, 8687, 304, 2080]]\n"
          ]
        }
      ]
    },
    {
      "cell_type": "code",
      "source": [
        "from tensorflow.keras.layers import Embedding\n",
        "from tensorflow.keras.preprocessing.sequence import pad_sequences\n",
        "from tensorflow.keras.models import Sequential"
      ],
      "metadata": {
        "id": "7UbEQ6n_BX3N"
      },
      "execution_count": 6,
      "outputs": []
    },
    {
      "cell_type": "code",
      "source": [
        "import numpy as np\n",
        "sent_length = 8\n",
        "embedded_docs = pad_sequences(onehot_repr, padding = 'pre', maxlen = sent_length)\n",
        "print(embedded_docs)"
      ],
      "metadata": {
        "colab": {
          "base_uri": "https://localhost:8080/"
        },
        "id": "OUUjpfdaB5Ce",
        "outputId": "453132f5-0db6-4b46-f940-a55a07a7089c"
      },
      "execution_count": 7,
      "outputs": [
        {
          "output_type": "stream",
          "name": "stdout",
          "text": [
            "[[   0    0    0    0 1066 3835  304 5992]\n",
            " [   0    0    0    0 1066 3835  304 5766]\n",
            " [   0    0    0    0 1066 9363  304 2536]\n",
            " [   0    0    0 5241 7609 1484 8467 6975]\n",
            " [   0    0    0 1601 1066 8687  304 2080]]\n"
          ]
        }
      ]
    },
    {
      "cell_type": "code",
      "source": [
        "dim = 15\n"
      ],
      "metadata": {
        "id": "qGgTULvuCTdE"
      },
      "execution_count": 8,
      "outputs": []
    },
    {
      "cell_type": "code",
      "source": [
        "model = Sequential()\n",
        "model.add(Embedding(voc_size, 10, input_length = sent_length))\n",
        "model.compile('adam', 'mse')"
      ],
      "metadata": {
        "colab": {
          "base_uri": "https://localhost:8080/"
        },
        "id": "aeTu1Ni9CfQi",
        "outputId": "e1610543-d6a7-4a41-d688-ccfd7195c398"
      },
      "execution_count": 9,
      "outputs": [
        {
          "output_type": "stream",
          "name": "stderr",
          "text": [
            "/usr/local/lib/python3.11/dist-packages/keras/src/layers/core/embedding.py:90: UserWarning: Argument `input_length` is deprecated. Just remove it.\n",
            "  warnings.warn(\n"
          ]
        }
      ]
    },
    {
      "cell_type": "code",
      "source": [
        "model.summary()"
      ],
      "metadata": {
        "colab": {
          "base_uri": "https://localhost:8080/",
          "height": 164
        },
        "id": "RiQGa3M0CoaP",
        "outputId": "040f86a1-bbe3-4354-dd1e-ad2fe364d3ad"
      },
      "execution_count": 10,
      "outputs": [
        {
          "output_type": "display_data",
          "data": {
            "text/plain": [
              "\u001b[1mModel: \"sequential\"\u001b[0m\n"
            ],
            "text/html": [
              "<pre style=\"white-space:pre;overflow-x:auto;line-height:normal;font-family:Menlo,'DejaVu Sans Mono',consolas,'Courier New',monospace\"><span style=\"font-weight: bold\">Model: \"sequential\"</span>\n",
              "</pre>\n"
            ]
          },
          "metadata": {}
        },
        {
          "output_type": "display_data",
          "data": {
            "text/plain": [
              "┏━━━━━━━━━━━━━━━━━━━━━━━━━━━━━━━━━┳━━━━━━━━━━━━━━━━━━━━━━━━┳━━━━━━━━━━━━━━━┓\n",
              "┃\u001b[1m \u001b[0m\u001b[1mLayer (type)                   \u001b[0m\u001b[1m \u001b[0m┃\u001b[1m \u001b[0m\u001b[1mOutput Shape          \u001b[0m\u001b[1m \u001b[0m┃\u001b[1m \u001b[0m\u001b[1m      Param #\u001b[0m\u001b[1m \u001b[0m┃\n",
              "┡━━━━━━━━━━━━━━━━━━━━━━━━━━━━━━━━━╇━━━━━━━━━━━━━━━━━━━━━━━━╇━━━━━━━━━━━━━━━┩\n",
              "│ embedding (\u001b[38;5;33mEmbedding\u001b[0m)           │ ?                      │   \u001b[38;5;34m0\u001b[0m (unbuilt) │\n",
              "└─────────────────────────────────┴────────────────────────┴───────────────┘\n"
            ],
            "text/html": [
              "<pre style=\"white-space:pre;overflow-x:auto;line-height:normal;font-family:Menlo,'DejaVu Sans Mono',consolas,'Courier New',monospace\">┏━━━━━━━━━━━━━━━━━━━━━━━━━━━━━━━━━┳━━━━━━━━━━━━━━━━━━━━━━━━┳━━━━━━━━━━━━━━━┓\n",
              "┃<span style=\"font-weight: bold\"> Layer (type)                    </span>┃<span style=\"font-weight: bold\"> Output Shape           </span>┃<span style=\"font-weight: bold\">       Param # </span>┃\n",
              "┡━━━━━━━━━━━━━━━━━━━━━━━━━━━━━━━━━╇━━━━━━━━━━━━━━━━━━━━━━━━╇━━━━━━━━━━━━━━━┩\n",
              "│ embedding (<span style=\"color: #0087ff; text-decoration-color: #0087ff\">Embedding</span>)           │ ?                      │   <span style=\"color: #00af00; text-decoration-color: #00af00\">0</span> (unbuilt) │\n",
              "└─────────────────────────────────┴────────────────────────┴───────────────┘\n",
              "</pre>\n"
            ]
          },
          "metadata": {}
        },
        {
          "output_type": "display_data",
          "data": {
            "text/plain": [
              "\u001b[1m Total params: \u001b[0m\u001b[38;5;34m0\u001b[0m (0.00 B)\n"
            ],
            "text/html": [
              "<pre style=\"white-space:pre;overflow-x:auto;line-height:normal;font-family:Menlo,'DejaVu Sans Mono',consolas,'Courier New',monospace\"><span style=\"font-weight: bold\"> Total params: </span><span style=\"color: #00af00; text-decoration-color: #00af00\">0</span> (0.00 B)\n",
              "</pre>\n"
            ]
          },
          "metadata": {}
        },
        {
          "output_type": "display_data",
          "data": {
            "text/plain": [
              "\u001b[1m Trainable params: \u001b[0m\u001b[38;5;34m0\u001b[0m (0.00 B)\n"
            ],
            "text/html": [
              "<pre style=\"white-space:pre;overflow-x:auto;line-height:normal;font-family:Menlo,'DejaVu Sans Mono',consolas,'Courier New',monospace\"><span style=\"font-weight: bold\"> Trainable params: </span><span style=\"color: #00af00; text-decoration-color: #00af00\">0</span> (0.00 B)\n",
              "</pre>\n"
            ]
          },
          "metadata": {}
        },
        {
          "output_type": "display_data",
          "data": {
            "text/plain": [
              "\u001b[1m Non-trainable params: \u001b[0m\u001b[38;5;34m0\u001b[0m (0.00 B)\n"
            ],
            "text/html": [
              "<pre style=\"white-space:pre;overflow-x:auto;line-height:normal;font-family:Menlo,'DejaVu Sans Mono',consolas,'Courier New',monospace\"><span style=\"font-weight: bold\"> Non-trainable params: </span><span style=\"color: #00af00; text-decoration-color: #00af00\">0</span> (0.00 B)\n",
              "</pre>\n"
            ]
          },
          "metadata": {}
        }
      ]
    },
    {
      "cell_type": "code",
      "source": [
        "print(model.predict(embedded_docs))"
      ],
      "metadata": {
        "colab": {
          "base_uri": "https://localhost:8080/"
        },
        "id": "Nr048F4vCpUW",
        "outputId": "52bb971a-85a6-4b73-8bcb-d0a67351781c"
      },
      "execution_count": 11,
      "outputs": [
        {
          "output_type": "stream",
          "name": "stdout",
          "text": [
            "\u001b[1m1/1\u001b[0m \u001b[32m━━━━━━━━━━━━━━━━━━━━\u001b[0m\u001b[37m\u001b[0m \u001b[1m0s\u001b[0m 368ms/step\n",
            "[[[ 0.02266962  0.00883977  0.02974118 -0.04099556  0.00147705\n",
            "   -0.03288656 -0.01361935 -0.01236081  0.01248398  0.02289652]\n",
            "  [ 0.02266962  0.00883977  0.02974118 -0.04099556  0.00147705\n",
            "   -0.03288656 -0.01361935 -0.01236081  0.01248398  0.02289652]\n",
            "  [ 0.02266962  0.00883977  0.02974118 -0.04099556  0.00147705\n",
            "   -0.03288656 -0.01361935 -0.01236081  0.01248398  0.02289652]\n",
            "  [ 0.02266962  0.00883977  0.02974118 -0.04099556  0.00147705\n",
            "   -0.03288656 -0.01361935 -0.01236081  0.01248398  0.02289652]\n",
            "  [ 0.02804274  0.03290929  0.02878984  0.04384274  0.03207522\n",
            "   -0.00179659  0.00988976 -0.02954371 -0.04042207  0.0075425 ]\n",
            "  [ 0.00532074 -0.00167146 -0.0151582   0.0376409   0.03235349\n",
            "   -0.0287382   0.01461386 -0.04848778  0.00728207  0.01710642]\n",
            "  [ 0.0259863   0.00553981 -0.01039395 -0.02369862 -0.00263585\n",
            "   -0.0203791  -0.01959136  0.03082642  0.03782381  0.03994009]\n",
            "  [ 0.02258033 -0.02094901  0.00541494 -0.00556661 -0.03827511\n",
            "   -0.01489428 -0.00551786 -0.0226984  -0.04241798  0.02318631]]\n",
            "\n",
            " [[ 0.02266962  0.00883977  0.02974118 -0.04099556  0.00147705\n",
            "   -0.03288656 -0.01361935 -0.01236081  0.01248398  0.02289652]\n",
            "  [ 0.02266962  0.00883977  0.02974118 -0.04099556  0.00147705\n",
            "   -0.03288656 -0.01361935 -0.01236081  0.01248398  0.02289652]\n",
            "  [ 0.02266962  0.00883977  0.02974118 -0.04099556  0.00147705\n",
            "   -0.03288656 -0.01361935 -0.01236081  0.01248398  0.02289652]\n",
            "  [ 0.02266962  0.00883977  0.02974118 -0.04099556  0.00147705\n",
            "   -0.03288656 -0.01361935 -0.01236081  0.01248398  0.02289652]\n",
            "  [ 0.02804274  0.03290929  0.02878984  0.04384274  0.03207522\n",
            "   -0.00179659  0.00988976 -0.02954371 -0.04042207  0.0075425 ]\n",
            "  [ 0.00532074 -0.00167146 -0.0151582   0.0376409   0.03235349\n",
            "   -0.0287382   0.01461386 -0.04848778  0.00728207  0.01710642]\n",
            "  [ 0.0259863   0.00553981 -0.01039395 -0.02369862 -0.00263585\n",
            "   -0.0203791  -0.01959136  0.03082642  0.03782381  0.03994009]\n",
            "  [ 0.02279771 -0.04922816  0.01158153 -0.01621823  0.04352888\n",
            "    0.00319    -0.00417577 -0.03494575 -0.0019623   0.01519868]]\n",
            "\n",
            " [[ 0.02266962  0.00883977  0.02974118 -0.04099556  0.00147705\n",
            "   -0.03288656 -0.01361935 -0.01236081  0.01248398  0.02289652]\n",
            "  [ 0.02266962  0.00883977  0.02974118 -0.04099556  0.00147705\n",
            "   -0.03288656 -0.01361935 -0.01236081  0.01248398  0.02289652]\n",
            "  [ 0.02266962  0.00883977  0.02974118 -0.04099556  0.00147705\n",
            "   -0.03288656 -0.01361935 -0.01236081  0.01248398  0.02289652]\n",
            "  [ 0.02266962  0.00883977  0.02974118 -0.04099556  0.00147705\n",
            "   -0.03288656 -0.01361935 -0.01236081  0.01248398  0.02289652]\n",
            "  [ 0.02804274  0.03290929  0.02878984  0.04384274  0.03207522\n",
            "   -0.00179659  0.00988976 -0.02954371 -0.04042207  0.0075425 ]\n",
            "  [ 0.0062834  -0.03073447  0.03042618 -0.00231645  0.02070172\n",
            "    0.02932537  0.0286965   0.0155918   0.04619697 -0.04001842]\n",
            "  [ 0.0259863   0.00553981 -0.01039395 -0.02369862 -0.00263585\n",
            "   -0.0203791  -0.01959136  0.03082642  0.03782381  0.03994009]\n",
            "  [-0.03040532 -0.00144202  0.00223943 -0.04649931 -0.01942947\n",
            "   -0.03001055  0.00435594 -0.01092411  0.00454072 -0.02130023]]\n",
            "\n",
            " [[ 0.02266962  0.00883977  0.02974118 -0.04099556  0.00147705\n",
            "   -0.03288656 -0.01361935 -0.01236081  0.01248398  0.02289652]\n",
            "  [ 0.02266962  0.00883977  0.02974118 -0.04099556  0.00147705\n",
            "   -0.03288656 -0.01361935 -0.01236081  0.01248398  0.02289652]\n",
            "  [ 0.02266962  0.00883977  0.02974118 -0.04099556  0.00147705\n",
            "   -0.03288656 -0.01361935 -0.01236081  0.01248398  0.02289652]\n",
            "  [ 0.02467606  0.00371145 -0.00896568 -0.00645479  0.04057253\n",
            "    0.0093698  -0.03562518  0.02981789  0.00379866 -0.02356205]\n",
            "  [ 0.03675773  0.00300948  0.00147295 -0.02262031  0.04626447\n",
            "    0.00047825  0.01737595  0.04662937  0.01179607 -0.02717844]\n",
            "  [-0.02700535  0.00594686  0.00826179 -0.03222587 -0.02058421\n",
            "    0.0138698  -0.04487631  0.04165286  0.0402464   0.02169147]\n",
            "  [-0.04024763  0.02561344  0.03397695  0.00028639 -0.0170588\n",
            "   -0.03906251 -0.02587765  0.02617342  0.01574292  0.04653487]\n",
            "  [-0.011739   -0.01828085  0.00882412  0.03666091 -0.04632989\n",
            "    0.04475198 -0.00688098  0.04096771 -0.01152799  0.04355338]]\n",
            "\n",
            " [[ 0.02266962  0.00883977  0.02974118 -0.04099556  0.00147705\n",
            "   -0.03288656 -0.01361935 -0.01236081  0.01248398  0.02289652]\n",
            "  [ 0.02266962  0.00883977  0.02974118 -0.04099556  0.00147705\n",
            "   -0.03288656 -0.01361935 -0.01236081  0.01248398  0.02289652]\n",
            "  [ 0.02266962  0.00883977  0.02974118 -0.04099556  0.00147705\n",
            "   -0.03288656 -0.01361935 -0.01236081  0.01248398  0.02289652]\n",
            "  [-0.03769971  0.03216108  0.02342046 -0.01477127  0.00082673\n",
            "    0.02821075  0.01991067 -0.01136059  0.04155819  0.03552039]\n",
            "  [ 0.02804274  0.03290929  0.02878984  0.04384274  0.03207522\n",
            "   -0.00179659  0.00988976 -0.02954371 -0.04042207  0.0075425 ]\n",
            "  [ 0.01733443 -0.02780154  0.02290985  0.00085807  0.00076274\n",
            "   -0.04755694 -0.01555575  0.02318254 -0.04557959 -0.01935526]\n",
            "  [ 0.0259863   0.00553981 -0.01039395 -0.02369862 -0.00263585\n",
            "   -0.0203791  -0.01959136  0.03082642  0.03782381  0.03994009]\n",
            "  [-0.00249146 -0.01058879 -0.0235682   0.02280177 -0.03378338\n",
            "    0.00023312  0.02451743 -0.00306622 -0.0375128  -0.01069859]]]\n"
          ]
        }
      ]
    },
    {
      "cell_type": "code",
      "source": [
        "embedded_docs"
      ],
      "metadata": {
        "colab": {
          "base_uri": "https://localhost:8080/"
        },
        "id": "IKuAFcDUCxG6",
        "outputId": "e57aaeb8-9d0b-426b-94d0-daf230a4bd69"
      },
      "execution_count": 12,
      "outputs": [
        {
          "output_type": "execute_result",
          "data": {
            "text/plain": [
              "array([[   0,    0,    0,    0, 1066, 3835,  304, 5992],\n",
              "       [   0,    0,    0,    0, 1066, 3835,  304, 5766],\n",
              "       [   0,    0,    0,    0, 1066, 9363,  304, 2536],\n",
              "       [   0,    0,    0, 5241, 7609, 1484, 8467, 6975],\n",
              "       [   0,    0,    0, 1601, 1066, 8687,  304, 2080]], dtype=int32)"
            ]
          },
          "metadata": {},
          "execution_count": 12
        }
      ]
    },
    {
      "cell_type": "code",
      "source": [
        "print(model.predict(embedded_docs)[0])"
      ],
      "metadata": {
        "colab": {
          "base_uri": "https://localhost:8080/"
        },
        "id": "XLtVvM59Cz9F",
        "outputId": "e0f37a26-a7bc-4201-98da-3204b3b53e06"
      },
      "execution_count": 13,
      "outputs": [
        {
          "output_type": "stream",
          "name": "stdout",
          "text": [
            "\u001b[1m1/1\u001b[0m \u001b[32m━━━━━━━━━━━━━━━━━━━━\u001b[0m\u001b[37m\u001b[0m \u001b[1m0s\u001b[0m 52ms/step\n",
            "[[ 0.02266962  0.00883977  0.02974118 -0.04099556  0.00147705 -0.03288656\n",
            "  -0.01361935 -0.01236081  0.01248398  0.02289652]\n",
            " [ 0.02266962  0.00883977  0.02974118 -0.04099556  0.00147705 -0.03288656\n",
            "  -0.01361935 -0.01236081  0.01248398  0.02289652]\n",
            " [ 0.02266962  0.00883977  0.02974118 -0.04099556  0.00147705 -0.03288656\n",
            "  -0.01361935 -0.01236081  0.01248398  0.02289652]\n",
            " [ 0.02266962  0.00883977  0.02974118 -0.04099556  0.00147705 -0.03288656\n",
            "  -0.01361935 -0.01236081  0.01248398  0.02289652]\n",
            " [ 0.02804274  0.03290929  0.02878984  0.04384274  0.03207522 -0.00179659\n",
            "   0.00988976 -0.02954371 -0.04042207  0.0075425 ]\n",
            " [ 0.00532074 -0.00167146 -0.0151582   0.0376409   0.03235349 -0.0287382\n",
            "   0.01461386 -0.04848778  0.00728207  0.01710642]\n",
            " [ 0.0259863   0.00553981 -0.01039395 -0.02369862 -0.00263585 -0.0203791\n",
            "  -0.01959136  0.03082642  0.03782381  0.03994009]\n",
            " [ 0.02258033 -0.02094901  0.00541494 -0.00556661 -0.03827511 -0.01489428\n",
            "  -0.00551786 -0.0226984  -0.04241798  0.02318631]]\n"
          ]
        }
      ]
    },
    {
      "cell_type": "code",
      "source": [],
      "metadata": {
        "id": "dcYlnps3DBhb"
      },
      "execution_count": null,
      "outputs": []
    }
  ]
}